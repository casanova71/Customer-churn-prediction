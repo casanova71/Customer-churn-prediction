{
 "cells": [
  {
   "cell_type": "code",
   "execution_count": 3,
   "id": "b5b8ab6d-92dd-487d-9efd-e21ff81964eb",
   "metadata": {},
   "outputs": [
    {
     "name": "stdout",
     "output_type": "stream",
     "text": [
      "Requirement already satisfied: catboost in c:\\users\\archi\\anaconda3\\lib\\site-packages (1.2.8)\n",
      "Requirement already satisfied: graphviz in c:\\users\\archi\\anaconda3\\lib\\site-packages (from catboost) (0.20.3)\n",
      "Requirement already satisfied: matplotlib in c:\\users\\archi\\appdata\\roaming\\python\\python311\\site-packages (from catboost) (3.10.1)\n",
      "Requirement already satisfied: numpy<3.0,>=1.16.0 in c:\\users\\archi\\appdata\\roaming\\python\\python311\\site-packages (from catboost) (1.26.4)\n",
      "Requirement already satisfied: pandas>=0.24 in c:\\users\\archi\\anaconda3\\lib\\site-packages (from catboost) (2.1.4)\n",
      "Requirement already satisfied: scipy in c:\\users\\archi\\appdata\\roaming\\python\\python311\\site-packages (from catboost) (1.15.2)\n",
      "Requirement already satisfied: plotly in c:\\users\\archi\\anaconda3\\lib\\site-packages (from catboost) (5.9.0)\n",
      "Requirement already satisfied: six in c:\\users\\archi\\appdata\\roaming\\python\\python311\\site-packages (from catboost) (1.17.0)\n",
      "Requirement already satisfied: python-dateutil>=2.8.2 in c:\\users\\archi\\appdata\\roaming\\python\\python311\\site-packages (from pandas>=0.24->catboost) (2.9.0.post0)\n",
      "Requirement already satisfied: pytz>=2020.1 in c:\\users\\archi\\anaconda3\\lib\\site-packages (from pandas>=0.24->catboost) (2023.3.post1)\n",
      "Requirement already satisfied: tzdata>=2022.1 in c:\\users\\archi\\anaconda3\\lib\\site-packages (from pandas>=0.24->catboost) (2023.3)\n",
      "Requirement already satisfied: contourpy>=1.0.1 in c:\\users\\archi\\appdata\\roaming\\python\\python311\\site-packages (from matplotlib->catboost) (1.3.1)\n",
      "Requirement already satisfied: cycler>=0.10 in c:\\users\\archi\\appdata\\roaming\\python\\python311\\site-packages (from matplotlib->catboost) (0.12.1)\n",
      "Requirement already satisfied: fonttools>=4.22.0 in c:\\users\\archi\\appdata\\roaming\\python\\python311\\site-packages (from matplotlib->catboost) (4.56.0)\n",
      "Requirement already satisfied: kiwisolver>=1.3.1 in c:\\users\\archi\\appdata\\roaming\\python\\python311\\site-packages (from matplotlib->catboost) (1.4.8)\n",
      "Requirement already satisfied: packaging>=20.0 in c:\\users\\archi\\anaconda3\\lib\\site-packages (from matplotlib->catboost) (23.2)\n",
      "Requirement already satisfied: pillow>=8 in c:\\users\\archi\\anaconda3\\lib\\site-packages (from matplotlib->catboost) (10.4.0)\n",
      "Requirement already satisfied: pyparsing>=2.3.1 in c:\\users\\archi\\appdata\\roaming\\python\\python311\\site-packages (from matplotlib->catboost) (3.2.1)\n",
      "Requirement already satisfied: tenacity>=6.2.0 in c:\\users\\archi\\anaconda3\\lib\\site-packages (from plotly->catboost) (8.2.2)\n"
     ]
    }
   ],
   "source": [
    "!pip install catboost"
   ]
  },
  {
   "cell_type": "code",
   "execution_count": 4,
   "id": "8c915af8-0522-4326-a799-ca82f7871889",
   "metadata": {},
   "outputs": [],
   "source": [
    "import pandas as pd\n",
    "from catboost import CatBoostClassifier, Pool\n",
    "from sklearn.model_selection import train_test_split\n",
    "from sklearn.metrics import classification_report, confusion_matrix"
   ]
  },
  {
   "cell_type": "code",
   "execution_count": 5,
   "id": "1dd1bdfa-7046-4bb1-aa83-0747a2317347",
   "metadata": {},
   "outputs": [],
   "source": [
    "df = pd.read_csv('../data/telco_cleaned1.csv')"
   ]
  },
  {
   "cell_type": "code",
   "execution_count": 6,
   "id": "dd401b53-9720-4082-8edb-34c01a932a34",
   "metadata": {},
   "outputs": [],
   "source": [
    "df['Churn'] = df['Churn'].map({'Yes': 1, 'No': 0})"
   ]
  },
  {
   "cell_type": "code",
   "execution_count": 7,
   "id": "bd2bb396-bad1-4ce6-8334-4498faf1bd3f",
   "metadata": {},
   "outputs": [],
   "source": [
    "df.drop(columns=['customerID'], inplace=True)"
   ]
  },
  {
   "cell_type": "code",
   "execution_count": 8,
   "id": "4d2c0e38-a0f0-4e9e-a5d1-f51fa055615c",
   "metadata": {},
   "outputs": [],
   "source": [
    "X = df.drop(columns=['Churn'])\n",
    "y = df['Churn']"
   ]
  },
  {
   "cell_type": "code",
   "execution_count": 9,
   "id": "69b83adb-78a1-4679-a010-479829df1557",
   "metadata": {},
   "outputs": [],
   "source": [
    "cat_cols = X.select_dtypes(include='object').columns.tolist()"
   ]
  },
  {
   "cell_type": "code",
   "execution_count": 10,
   "id": "9a700015-0078-4be5-ab54-fe268a34dcbf",
   "metadata": {},
   "outputs": [],
   "source": [
    "X_train, X_test, y_train, y_test = train_test_split(\n",
    "X, y, test_size=0.2, stratify=y, random_state=42\n",
    ")"
   ]
  },
  {
   "cell_type": "code",
   "execution_count": 11,
   "id": "555db2e4-4495-4860-bcb2-219cc9dd17da",
   "metadata": {},
   "outputs": [],
   "source": [
    "model = CatBoostClassifier(\n",
    "iterations=500,\n",
    "learning_rate=0.05,\n",
    "depth=6,\n",
    "eval_metric='Accuracy',\n",
    "cat_features=cat_cols,\n",
    "verbose=100,\n",
    "random_state=42\n",
    ")"
   ]
  },
  {
   "cell_type": "code",
   "execution_count": 12,
   "id": "35135e83-4e56-4153-bcac-951d56824b81",
   "metadata": {},
   "outputs": [
    {
     "name": "stdout",
     "output_type": "stream",
     "text": [
      "0:\tlearn: 0.7786652\ttest: 0.7665011\tbest: 0.7665011 (0)\ttotal: 220ms\tremaining: 1m 49s\n",
      "100:\tlearn: 0.8209088\ttest: 0.8076650\tbest: 0.8112136 (45)\ttotal: 5.7s\tremaining: 22.5s\n",
      "200:\tlearn: 0.8283635\ttest: 0.8055358\tbest: 0.8112136 (45)\ttotal: 11.5s\tremaining: 17.1s\n",
      "300:\tlearn: 0.8418530\ttest: 0.8019872\tbest: 0.8112136 (45)\ttotal: 17.6s\tremaining: 11.7s\n",
      "400:\tlearn: 0.8505502\ttest: 0.8048261\tbest: 0.8112136 (45)\ttotal: 23.7s\tremaining: 5.84s\n",
      "499:\tlearn: 0.8576500\ttest: 0.8034067\tbest: 0.8112136 (45)\ttotal: 29.7s\tremaining: 0us\n",
      "\n",
      "bestTest = 0.8112136267\n",
      "bestIteration = 45\n",
      "\n",
      "Shrink model to first 46 iterations.\n"
     ]
    },
    {
     "data": {
      "text/plain": [
       "<catboost.core.CatBoostClassifier at 0x163ff417050>"
      ]
     },
     "execution_count": 12,
     "metadata": {},
     "output_type": "execute_result"
    }
   ],
   "source": [
    "model.fit(X_train, y_train, cat_features=cat_cols, eval_set=(X_test, y_test))"
   ]
  },
  {
   "cell_type": "code",
   "execution_count": 13,
   "id": "7860c7e4-f6c1-4117-8b46-3e67216752de",
   "metadata": {},
   "outputs": [],
   "source": [
    "y_pred = model.predict(X_test)"
   ]
  },
  {
   "cell_type": "code",
   "execution_count": 14,
   "id": "66872b69-cb3c-46df-a040-604fd55d5a1c",
   "metadata": {},
   "outputs": [
    {
     "name": "stdout",
     "output_type": "stream",
     "text": [
      "[[949  86]\n",
      " [180 194]]\n",
      "              precision    recall  f1-score   support\n",
      "\n",
      "           0       0.84      0.92      0.88      1035\n",
      "           1       0.69      0.52      0.59       374\n",
      "\n",
      "    accuracy                           0.81      1409\n",
      "   macro avg       0.77      0.72      0.74      1409\n",
      "weighted avg       0.80      0.81      0.80      1409\n",
      "\n"
     ]
    }
   ],
   "source": [
    "print(confusion_matrix(y_test, y_pred))\n",
    "print(classification_report(y_test, y_pred))"
   ]
  },
  {
   "cell_type": "code",
   "execution_count": 15,
   "id": "f3ad3e5e-e363-467d-86a5-180f89f2472d",
   "metadata": {},
   "outputs": [],
   "source": [
    "import matplotlib.pyplot as plt\n",
    "\n",
    "feature_importance = model.get_feature_importance()\n",
    "feature_names = X.columns"
   ]
  },
  {
   "cell_type": "code",
   "execution_count": 16,
   "id": "e51dfb8f-330d-4a99-87ef-7e0911bbfb22",
   "metadata": {},
   "outputs": [],
   "source": [
    "top_idx = feature_importance.argsort()[-10:]"
   ]
  },
  {
   "cell_type": "code",
   "execution_count": 17,
   "id": "8fb65811-0706-47f3-8644-c4c132ab5d5e",
   "metadata": {},
   "outputs": [
    {
     "data": {
      "image/png": "[encoded data removed]",
      "text/plain": [
       "<Figure size 640x480 with 1 Axes>"
      ]
     },
     "metadata": {},
     "output_type": "display_data"
    }
   ],
   "source": [
    "plt.barh(range(10), feature_importance[top_idx])\n",
    "plt.yticks(range(10), [feature_names[i] for i in top_idx])\n",
    "plt.title(\"Top 10 Feature Importances\")\n",
    "plt.show()"
   ]
  },
  {
   "cell_type": "code",
   "execution_count": 18,
   "id": "b3c3fcf0-9cd4-4751-84ef-dcda2df2a545",
   "metadata": {},
   "outputs": [],
   "source": [
    "from sklearn.model_selection import StratifiedKFold\n",
    "from sklearn.metrics import f1_score, classification_report\n",
    "from catboost import CatBoostClassifier\n",
    "import numpy as np"
   ]
  },
  {
   "cell_type": "code",
   "execution_count": 19,
   "id": "c6967d58-a32f-4fc5-b46e-600449bb1f51",
   "metadata": {},
   "outputs": [],
   "source": [
    "skf = StratifiedKFold(n_splits=5, shuffle=True, random_state=42)"
   ]
  },
  {
   "cell_type": "code",
   "execution_count": 20,
   "id": "18056937-252a-4172-afae-a4f6a96b5638",
   "metadata": {},
   "outputs": [],
   "source": [
    "f1_scores = []"
   ]
  },
  {
   "cell_type": "code",
   "execution_count": 21,
   "id": "962ea430-cc28-41cc-958d-e806e95abcad",
   "metadata": {},
   "outputs": [
    {
     "name": "stdout",
     "output_type": "stream",
     "text": [
      "\n",
      " Fold 1\n",
      "\n",
      " Fold 2\n",
      "\n",
      " Fold 3\n",
      "\n",
      " Fold 4\n",
      "\n",
      " Fold 5\n"
     ]
    }
   ],
   "source": [
    "for fold, (train_idx, val_idx) in enumerate(skf.split(X, y)):\n",
    "    print(f\"\\n Fold {fold+1}\")\n",
    "    X_train, X_val = X.iloc[train_idx], X.iloc[val_idx]\n",
    "    y_train, y_val = y.iloc[train_idx], y.iloc[val_idx]"
   ]
  },
  {
   "cell_type": "code",
   "execution_count": 22,
   "id": "7c79da14-1e10-4fc9-ae74-104f63f47b66",
   "metadata": {},
   "outputs": [],
   "source": [
    "# Initialize CatBoostClassifier\n",
    "model = CatBoostClassifier(\n",
    "        iterations=300,\n",
    "        learning_rate=0.05,\n",
    "        depth=6,\n",
    "        verbose=False,\n",
    "        random_state=42,\n",
    "        cat_features=cat_cols\n",
    "    )"
   ]
  },
  {
   "cell_type": "code",
   "execution_count": 23,
   "id": "f99d1f36-b712-46fa-a5c3-0024a27ad873",
   "metadata": {},
   "outputs": [],
   "source": [
    "\n",
    "    model.fit(X_train, y_train)\n",
    "\n",
    "    # Predict\n",
    "    y_pred = model.predict(X_val)"
   ]
  },
  {
   "cell_type": "code",
   "execution_count": 24,
   "id": "ee5e3313-9064-4f72-92d0-d415d501332e",
   "metadata": {},
   "outputs": [
    {
     "name": "stdout",
     "output_type": "stream",
     "text": [
      "F1-score (Churn=1): 0.5511\n"
     ]
    }
   ],
   "source": [
    "    f1 = f1_score(y_val, y_pred)\n",
    "    f1_scores.append(f1)\n",
    "    print(\"F1-score (Churn=1):\", round(f1, 4))"
   ]
  },
  {
   "cell_type": "code",
   "execution_count": 25,
   "id": "bb24b540-761a-4289-ac0c-2cfe7e363958",
   "metadata": {},
   "outputs": [
    {
     "name": "stdout",
     "output_type": "stream",
     "text": [
      "\n",
      " Average F1-score across folds: 0.5511\n",
      "\n",
      " Classification Report (last fold):\n",
      "              precision    recall  f1-score   support\n",
      "\n",
      "           0       0.83      0.91      0.87      1034\n",
      "           1       0.65      0.48      0.55       374\n",
      "\n",
      "    accuracy                           0.79      1408\n",
      "   macro avg       0.74      0.69      0.71      1408\n",
      "weighted avg       0.78      0.79      0.78      1408\n",
      "\n"
     ]
    }
   ],
   "source": [
    "print(\"\\n Average F1-score across folds:\", round(np.mean(f1_scores), 4))\n",
    "print(\"\\n Classification Report (last fold):\")\n",
    "print(classification_report(y_val, y_pred))"
   ]
  },
  {
   "cell_type": "code",
   "execution_count": 26,
   "id": "9055feb3-e669-44f1-b8f3-2966915d0039",
   "metadata": {},
   "outputs": [
    {
     "name": "stdout",
     "output_type": "stream",
     "text": [
      "Requirement already satisfied: optuna in c:\\users\\archi\\anaconda3\\lib\\site-packages (4.3.0)\n",
      "Requirement already satisfied: alembic>=1.5.0 in c:\\users\\archi\\anaconda3\\lib\\site-packages (from optuna) (1.16.1)\n",
      "Requirement already satisfied: colorlog in c:\\users\\archi\\anaconda3\\lib\\site-packages (from optuna) (6.9.0)\n",
      "Requirement already satisfied: numpy in c:\\users\\archi\\appdata\\roaming\\python\\python311\\site-packages (from optuna) (1.26.4)\n",
      "Requirement already satisfied: packaging>=20.0 in c:\\users\\archi\\anaconda3\\lib\\site-packages (from optuna) (23.2)\n",
      "Requirement already satisfied: sqlalchemy>=1.4.2 in c:\\users\\archi\\anaconda3\\lib\\site-packages (from optuna) (2.0.25)\n",
      "Requirement already satisfied: tqdm in c:\\users\\archi\\anaconda3\\lib\\site-packages (from optuna) (4.65.0)\n",
      "Requirement already satisfied: PyYAML in c:\\users\\archi\\anaconda3\\lib\\site-packages (from optuna) (6.0.1)\n",
      "Requirement already satisfied: Mako in c:\\users\\archi\\anaconda3\\lib\\site-packages (from alembic>=1.5.0->optuna) (1.3.10)\n",
      "Requirement already satisfied: typing-extensions>=4.12 in c:\\users\\archi\\anaconda3\\lib\\site-packages (from alembic>=1.5.0->optuna) (4.13.2)\n",
      "Requirement already satisfied: greenlet!=0.4.17 in c:\\users\\archi\\anaconda3\\lib\\site-packages (from sqlalchemy>=1.4.2->optuna) (3.0.1)\n",
      "Requirement already satisfied: colorama in c:\\users\\archi\\anaconda3\\lib\\site-packages (from colorlog->optuna) (0.4.6)\n",
      "Requirement already satisfied: MarkupSafe>=0.9.2 in c:\\users\\archi\\anaconda3\\lib\\site-packages (from Mako->alembic>=1.5.0->optuna) (2.1.3)\n"
     ]
    }
   ],
   "source": [
    "!pip install optuna"
   ]
  },
  {
   "cell_type": "code",
   "execution_count": 27,
   "id": "e6aa0871-6628-4004-8920-da12f63e2e94",
   "metadata": {},
   "outputs": [
    {
     "name": "stdout",
     "output_type": "stream",
     "text": [
      "Requirement already satisfied: packaging<24 in c:\\users\\archi\\anaconda3\\lib\\site-packages (23.2)\n",
      "Requirement already satisfied: pillow<11 in c:\\users\\archi\\anaconda3\\lib\\site-packages (10.4.0)\n",
      "Note: you may need to restart the kernel to use updated packages.\n"
     ]
    }
   ],
   "source": [
    "pip install \"packaging<24\" \"pillow<11\""
   ]
  },
  {
   "cell_type": "code",
   "execution_count": 28,
   "id": "7c342431-960d-4b51-b7ef-f6670fbd12e3",
   "metadata": {},
   "outputs": [
    {
     "name": "stderr",
     "output_type": "stream",
     "text": [
      "[I 2025-06-02 14:08:01,274] A new study created in memory with name: no-name-14eff295-24e9-46e7-83db-6f424dbf2f5e\n",
      "[I 2025-06-02 14:08:54,847] Trial 0 finished with value: 0.5802159811301291 and parameters: {'learning_rate': 0.08368212682423176, 'depth': 6, 'l2_leaf_reg': 1.1287039198459445, 'random_strength': 4.072387372575283e-05, 'bagging_temperature': 0.8846023876478949}. Best is trial 0 with value: 0.5802159811301291.\n",
      "[I 2025-06-02 14:10:53,921] Trial 1 finished with value: 0.5550886255830031 and parameters: {'learning_rate': 0.11256769040914054, 'depth': 10, 'l2_leaf_reg': 8.991181922117011, 'random_strength': 1.6677846823088652e-08, 'bagging_temperature': 0.7007260082348535}. Best is trial 0 with value: 0.5802159811301291.\n",
      "[I 2025-06-02 14:12:29,512] Trial 2 finished with value: 0.5727892455975027 and parameters: {'learning_rate': 0.06552027342665917, 'depth': 10, 'l2_leaf_reg': 8.162654855015862, 'random_strength': 1.172281636892066, 'bagging_temperature': 0.7591775107792722}. Best is trial 0 with value: 0.5802159811301291.\n",
      "[I 2025-06-02 14:13:13,318] Trial 3 finished with value: 0.5844947231270754 and parameters: {'learning_rate': 0.0761969328123232, 'depth': 5, 'l2_leaf_reg': 5.482694976978349, 'random_strength': 1.0036696280446998e-09, 'bagging_temperature': 0.625026007278888}. Best is trial 3 with value: 0.5844947231270754.\n",
      "[I 2025-06-02 14:13:58,726] Trial 4 finished with value: 0.5906413962951066 and parameters: {'learning_rate': 0.038284259692295604, 'depth': 7, 'l2_leaf_reg': 9.722094467825745, 'random_strength': 3.342356085192884, 'bagging_temperature': 0.7169336844157908}. Best is trial 4 with value: 0.5906413962951066.\n",
      "[I 2025-06-02 14:15:15,055] Trial 5 finished with value: 0.5587796420333454 and parameters: {'learning_rate': 0.24106005817548912, 'depth': 8, 'l2_leaf_reg': 8.153260536929631, 'random_strength': 0.060050974392276246, 'bagging_temperature': 0.5320908639241357}. Best is trial 4 with value: 0.5906413962951066.\n",
      "[I 2025-06-02 14:15:50,433] Trial 6 finished with value: 0.5944405009485144 and parameters: {'learning_rate': 0.03845259726507681, 'depth': 5, 'l2_leaf_reg': 4.241282673873435, 'random_strength': 6.777303920176117, 'bagging_temperature': 0.4485623397225911}. Best is trial 6 with value: 0.5944405009485144.\n",
      "[I 2025-06-02 14:17:40,615] Trial 7 finished with value: 0.5443850446250168 and parameters: {'learning_rate': 0.16695934164848134, 'depth': 10, 'l2_leaf_reg': 7.966940478107058, 'random_strength': 0.006098926546693893, 'bagging_temperature': 0.5907504755198163}. Best is trial 6 with value: 0.5944405009485144.\n",
      "[I 2025-06-02 14:18:27,784] Trial 8 finished with value: 0.58443150294135 and parameters: {'learning_rate': 0.01462395769595686, 'depth': 6, 'l2_leaf_reg': 9.050639417496798, 'random_strength': 1.8297712423428534, 'bagging_temperature': 0.4403399560045177}. Best is trial 6 with value: 0.5944405009485144.\n",
      "[I 2025-06-02 14:19:07,499] Trial 9 finished with value: 0.5912660451446873 and parameters: {'learning_rate': 0.03769494891704433, 'depth': 4, 'l2_leaf_reg': 8.291725642767659, 'random_strength': 0.2719302417141265, 'bagging_temperature': 0.334616191860328}. Best is trial 6 with value: 0.5944405009485144.\n",
      "[I 2025-06-02 14:19:42,835] Trial 10 finished with value: 0.5802271741978585 and parameters: {'learning_rate': 0.013979408755765005, 'depth': 4, 'l2_leaf_reg': 3.7670522916365217, 'random_strength': 1.730635106672298e-05, 'bagging_temperature': 0.1309196701653934}. Best is trial 6 with value: 0.5944405009485144.\n",
      "[I 2025-06-02 14:20:20,978] Trial 11 finished with value: 0.5882843562181418 and parameters: {'learning_rate': 0.033493511176342146, 'depth': 4, 'l2_leaf_reg': 5.9485524103187295, 'random_strength': 0.006215286856059418, 'bagging_temperature': 0.3083321062532903}. Best is trial 6 with value: 0.5944405009485144.\n",
      "[I 2025-06-02 14:20:56,798] Trial 12 finished with value: 0.5769588934611174 and parameters: {'learning_rate': 0.027269565775217403, 'depth': 5, 'l2_leaf_reg': 3.776650978570495, 'random_strength': 9.266838878860895, 'bagging_temperature': 0.294074619070435}. Best is trial 6 with value: 0.5944405009485144.\n",
      "[I 2025-06-02 14:21:34,555] Trial 13 finished with value: 0.5847765867123286 and parameters: {'learning_rate': 0.022453984962849994, 'depth': 4, 'l2_leaf_reg': 6.1920000197965, 'random_strength': 0.0632829952769617, 'bagging_temperature': 0.022288762793694072}. Best is trial 6 with value: 0.5944405009485144.\n",
      "[I 2025-06-02 14:22:20,432] Trial 14 finished with value: 0.5898474340770691 and parameters: {'learning_rate': 0.04602770214137419, 'depth': 5, 'l2_leaf_reg': 4.060055867972104, 'random_strength': 0.0012930398123055307, 'bagging_temperature': 0.392513215805452}. Best is trial 6 with value: 0.5944405009485144.\n",
      "[I 2025-06-02 14:23:36,822] Trial 15 finished with value: 0.5831829398358764 and parameters: {'learning_rate': 0.019807232164347176, 'depth': 8, 'l2_leaf_reg': 1.753435549823235, 'random_strength': 2.957435261544243e-06, 'bagging_temperature': 0.180936456399034}. Best is trial 6 with value: 0.5944405009485144.\n",
      "[I 2025-06-02 14:24:30,922] Trial 16 finished with value: 0.5865459648706949 and parameters: {'learning_rate': 0.05023362733274691, 'depth': 6, 'l2_leaf_reg': 6.950630988571046, 'random_strength': 0.07667803392449411, 'bagging_temperature': 0.9996071749538238}. Best is trial 6 with value: 0.5944405009485144.\n",
      "[I 2025-06-02 14:25:16,033] Trial 17 finished with value: 0.5838878892303682 and parameters: {'learning_rate': 0.12355093547993495, 'depth': 5, 'l2_leaf_reg': 2.328809026959388, 'random_strength': 0.0006307932278140981, 'bagging_temperature': 0.2804311222400052}. Best is trial 6 with value: 0.5944405009485144.\n",
      "[I 2025-06-02 14:25:58,142] Trial 18 finished with value: 0.5927711912373371 and parameters: {'learning_rate': 0.02891013328531542, 'depth': 4, 'l2_leaf_reg': 4.799657935610165, 'random_strength': 0.3170027251907262, 'bagging_temperature': 0.45373438701565694}. Best is trial 6 with value: 0.5944405009485144.\n",
      "[I 2025-06-02 14:27:10,540] Trial 19 finished with value: 0.5801555364140883 and parameters: {'learning_rate': 0.010166953184207947, 'depth': 7, 'l2_leaf_reg': 4.618269427218826, 'random_strength': 3.879122804471793e-06, 'bagging_temperature': 0.46206954456573535}. Best is trial 6 with value: 0.5944405009485144.\n",
      "[I 2025-06-02 14:28:36,494] Trial 20 finished with value: 0.5829138312290797 and parameters: {'learning_rate': 0.02472177956564691, 'depth': 8, 'l2_leaf_reg': 2.8856364676561173, 'random_strength': 1.9289799153162038e-07, 'bagging_temperature': 0.5544919271814274}. Best is trial 6 with value: 0.5944405009485144.\n",
      "[I 2025-06-02 14:29:16,977] Trial 21 finished with value: 0.5917962163563718 and parameters: {'learning_rate': 0.036198533315407726, 'depth': 4, 'l2_leaf_reg': 4.778170377373775, 'random_strength': 0.25197920491060144, 'bagging_temperature': 0.3615231890818049}. Best is trial 6 with value: 0.5944405009485144.\n",
      "[I 2025-06-02 14:29:57,472] Trial 22 finished with value: 0.5889228559895382 and parameters: {'learning_rate': 0.05555791733093176, 'depth': 4, 'l2_leaf_reg': 4.789687928194279, 'random_strength': 0.46966206157243506, 'bagging_temperature': 0.1849845093764768}. Best is trial 6 with value: 0.5944405009485144.\n",
      "[I 2025-06-02 14:30:48,734] Trial 23 finished with value: 0.585374429045253 and parameters: {'learning_rate': 0.03037613060111358, 'depth': 5, 'l2_leaf_reg': 3.0163753607896675, 'random_strength': 0.010933522421439636, 'bagging_temperature': 0.4334203194472789}. Best is trial 6 with value: 0.5944405009485144.\n",
      "[I 2025-06-02 14:31:21,988] Trial 24 finished with value: 0.5599333619884502 and parameters: {'learning_rate': 0.01815866231469695, 'depth': 4, 'l2_leaf_reg': 5.159708885084687, 'random_strength': 8.244437522141702, 'bagging_temperature': 0.36105963794743867}. Best is trial 6 with value: 0.5944405009485144.\n",
      "[I 2025-06-02 14:32:15,949] Trial 25 finished with value: 0.5851858575428094 and parameters: {'learning_rate': 0.043567434309288215, 'depth': 6, 'l2_leaf_reg': 6.717306927107463, 'random_strength': 0.31299155709804527, 'bagging_temperature': 0.4978332708662587}. Best is trial 6 with value: 0.5944405009485144.\n",
      "[I 2025-06-02 14:32:57,751] Trial 26 finished with value: 0.5886657098755089 and parameters: {'learning_rate': 0.030922003133134635, 'depth': 5, 'l2_leaf_reg': 4.347030637153075, 'random_strength': 0.03424748206161801, 'bagging_temperature': 0.19408905915383673}. Best is trial 6 with value: 0.5944405009485144.\n",
      "[I 2025-06-02 14:33:32,389] Trial 27 finished with value: 0.5855181371613741 and parameters: {'learning_rate': 0.061661999618838, 'depth': 4, 'l2_leaf_reg': 3.3902575066806726, 'random_strength': 0.0005228239355723957, 'bagging_temperature': 0.6659485335139272}. Best is trial 6 with value: 0.5944405009485144.\n",
      "[I 2025-06-02 14:34:13,874] Trial 28 finished with value: 0.5856287573420601 and parameters: {'learning_rate': 0.01627879302641119, 'depth': 5, 'l2_leaf_reg': 5.106645450966623, 'random_strength': 0.5529048399069453, 'bagging_temperature': 0.2460738087148696}. Best is trial 6 with value: 0.5944405009485144.\n",
      "[I 2025-06-02 14:35:04,680] Trial 29 finished with value: 0.5808784130855731 and parameters: {'learning_rate': 0.08882578549879114, 'depth': 6, 'l2_leaf_reg': 1.4800388484734825, 'random_strength': 0.0002214472179906351, 'bagging_temperature': 0.7801025285156362}. Best is trial 6 with value: 0.5944405009485144.\n"
     ]
    }
   ],
   "source": [
    "import pandas as pd\n",
    "import numpy as np\n",
    "import optuna\n",
    "from sklearn.model_selection import StratifiedKFold\n",
    "from sklearn.metrics import f1_score\n",
    "from catboost import CatBoostClassifier\n",
    "\n",
    "# Load data\n",
    "df = pd.read_csv('../data/telco_cleaned1.csv')\n",
    "df[\"Churn\"] = df[\"Churn\"].map({\"No\": 0, \"Yes\": 1})\n",
    "X = df.drop(columns=[\"Churn\", \"customerID\"])\n",
    "y = df[\"Churn\"]\n",
    "categorical_features = X.select_dtypes(include=\"object\").columns.tolist()\n",
    "\n",
    "# Define objective function for Optuna\n",
    "def objective(trial):\n",
    "    params = {\n",
    "        \"iterations\": 300,\n",
    "        \"learning_rate\": trial.suggest_float(\"learning_rate\", 0.01, 0.3, log=True),\n",
    "        \"depth\": trial.suggest_int(\"depth\", 4, 10),\n",
    "        \"l2_leaf_reg\": trial.suggest_float(\"l2_leaf_reg\", 1.0, 10.0),\n",
    "        \"random_strength\": trial.suggest_float(\"random_strength\", 1e-9, 10.0, log=True),\n",
    "        \"bagging_temperature\": trial.suggest_float(\"bagging_temperature\", 0.0, 1.0),\n",
    "        \"random_state\": 42,\n",
    "        \"verbose\": False,\n",
    "        \"cat_features\": categorical_features\n",
    "    }\n",
    "\n",
    "    skf = StratifiedKFold(n_splits=3, shuffle=True, random_state=42)\n",
    "    f1_scores = []\n",
    "\n",
    "    for train_idx, val_idx in skf.split(X, y):\n",
    "        X_train, X_val = X.iloc[train_idx], X.iloc[val_idx]\n",
    "        y_train, y_val = y.iloc[train_idx], y.iloc[val_idx]\n",
    "\n",
    "        model = CatBoostClassifier(**params)\n",
    "        model.fit(X_train, y_train)\n",
    "        preds = model.predict(X_val)\n",
    "        f1_scores.append(f1_score(y_val, preds))\n",
    "\n",
    "    return np.mean(f1_scores)\n",
    "\n",
    "# Run Optuna study\n",
    "study = optuna.create_study(direction=\"maximize\")\n",
    "study.optimize(objective, n_trials=30)"
   ]
  },
  {
   "cell_type": "code",
   "execution_count": 29,
   "id": "1aeb7f85-2c6c-44e6-8774-1c11969f1d72",
   "metadata": {},
   "outputs": [
    {
     "name": "stdout",
     "output_type": "stream",
     "text": [
      "\n",
      "✅ Best F1-score: 0.5944405009485144\n",
      "\n",
      "📌 Best hyperparameters:\n",
      "learning_rate: 0.03845259726507681\n",
      "depth: 5\n",
      "l2_leaf_reg: 4.241282673873435\n",
      "random_strength: 6.777303920176117\n",
      "bagging_temperature: 0.4485623397225911\n"
     ]
    }
   ],
   "source": [
    "# Best parameters\n",
    "print(\"\\n✅ Best F1-score:\", study.best_value)\n",
    "print(\"\\n📌 Best hyperparameters:\")\n",
    "for key, value in study.best_params.items():\n",
    "    print(f\"{key}: {value}\")"
   ]
  },
  {
   "cell_type": "code",
   "execution_count": 30,
   "id": "43e80b28-d193-43df-82dd-369b3d176b9a",
   "metadata": {},
   "outputs": [],
   "source": [
    "# Retrieve best parameters from study\n",
    "best_params = study.best_params.copy()\n",
    "\n",
    "# Add required static parameters\n",
    "best_params.update({\n",
    "    \"iterations\": 300,\n",
    "    \"random_state\": 42,\n",
    "    \"verbose\": False,\n",
    "    \"cat_features\": categorical_features\n",
    "})\n"
   ]
  },
  {
   "cell_type": "code",
   "execution_count": 31,
   "id": "10619b21-6c7f-4239-98b4-33125953933e",
   "metadata": {},
   "outputs": [
    {
     "data": {
      "text/plain": [
       "<catboost.core.CatBoostClassifier at 0x163824d8f90>"
      ]
     },
     "execution_count": 31,
     "metadata": {},
     "output_type": "execute_result"
    }
   ],
   "source": [
    "final_model = CatBoostClassifier(**best_params)\n",
    "final_model.fit(X, y)"
   ]
  },
  {
   "cell_type": "code",
   "execution_count": 32,
   "id": "e7d8e378-854d-4f37-89fd-bd15653b2ae9",
   "metadata": {},
   "outputs": [
    {
     "name": "stdout",
     "output_type": "stream",
     "text": [
      "Confusion Matrix:\n",
      " [[4729  445]\n",
      " [ 893  976]]\n",
      "\n",
      "Classification Report:\n",
      "               precision    recall  f1-score   support\n",
      "\n",
      "           0       0.84      0.91      0.88      5174\n",
      "           1       0.69      0.52      0.59      1869\n",
      "\n",
      "    accuracy                           0.81      7043\n",
      "   macro avg       0.76      0.72      0.73      7043\n",
      "weighted avg       0.80      0.81      0.80      7043\n",
      "\n"
     ]
    }
   ],
   "source": [
    "y_pred = final_model.predict(X)\n",
    "print(\"Confusion Matrix:\\n\", confusion_matrix(y, y_pred))\n",
    "print(\"\\nClassification Report:\\n\", classification_report(y, y_pred))"
   ]
  },
  {
   "cell_type": "code",
   "execution_count": null,
   "id": "f1508612-7109-446c-b0ac-4f03eb36b780",
   "metadata": {},
   "outputs": [],
   "source": []
  }
 ],
 "metadata": {
  "kernelspec": {
   "display_name": "Python 3 (ipykernel)",
   "language": "python",
   "name": "python3"
  },
  "language_info": {
   "codemirror_mode": {
    "name": "ipython",
    "version": 3
   },
   "file_extension": ".py",
   "mimetype": "text/x-python",
   "name": "python",
   "nbconvert_exporter": "python",
   "pygments_lexer": "ipython3",
   "version": "3.11.7"
  }
 },
 "nbformat": 4,
 "nbformat_minor": 5
}
